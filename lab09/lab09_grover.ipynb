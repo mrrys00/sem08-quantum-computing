{
 "cells": [
  {
   "cell_type": "code",
   "execution_count": 3,
   "metadata": {},
   "outputs": [
    {
     "ename": "AttributeError",
     "evalue": "'list' object has no attribute 'num_qubits'",
     "output_type": "error",
     "traceback": [
      "\u001b[0;31m---------------------------------------------------------------------------\u001b[0m",
      "\u001b[0;31mAttributeError\u001b[0m                            Traceback (most recent call last)",
      "Cell \u001b[0;32mIn[3], line 57\u001b[0m\n\u001b[1;32m     55\u001b[0m \u001b[38;5;66;03m# Apply Grover's iterations\u001b[39;00m\n\u001b[1;32m     56\u001b[0m \u001b[38;5;28;01mfor\u001b[39;00m i \u001b[38;5;129;01min\u001b[39;00m \u001b[38;5;28mrange\u001b[39m(iterations):\n\u001b[0;32m---> 57\u001b[0m     \u001b[43mgrover_iteration\u001b[49m\u001b[43m(\u001b[49m\u001b[43mqc\u001b[49m\u001b[43m,\u001b[49m\u001b[43m \u001b[49m\u001b[43mnumber\u001b[49m\u001b[43m,\u001b[49m\u001b[43m \u001b[49m\u001b[38;5;28;43mlist\u001b[39;49m\u001b[43m(\u001b[49m\u001b[38;5;28;43mrange\u001b[39;49m\u001b[43m(\u001b[49m\u001b[43mwidth\u001b[49m\u001b[43m)\u001b[49m\u001b[43m)\u001b[49m\u001b[43m,\u001b[49m\u001b[43m \u001b[49m\u001b[43m[\u001b[49m\u001b[43mwidth\u001b[49m\u001b[43m]\u001b[49m\u001b[43m)\u001b[49m\n\u001b[1;32m     59\u001b[0m \u001b[38;5;66;03m# Measure the input qubits\u001b[39;00m\n\u001b[1;32m     60\u001b[0m qc\u001b[38;5;241m.\u001b[39mmeasure(\u001b[38;5;28mrange\u001b[39m(width), \u001b[38;5;241m0\u001b[39m)\n",
      "Cell \u001b[0;32mIn[3], line 34\u001b[0m, in \u001b[0;36mgrover_iteration\u001b[0;34m(qc, target, x, y)\u001b[0m\n\u001b[1;32m     33\u001b[0m \u001b[38;5;28;01mdef\u001b[39;00m \u001b[38;5;21mgrover_iteration\u001b[39m(qc, target, x, y):\n\u001b[0;32m---> 34\u001b[0m     \u001b[43moracle\u001b[49m\u001b[43m(\u001b[49m\u001b[43mqc\u001b[49m\u001b[43m,\u001b[49m\u001b[43m \u001b[49m\u001b[43mtarget\u001b[49m\u001b[43m,\u001b[49m\u001b[43m \u001b[49m\u001b[43mx\u001b[49m\u001b[43m,\u001b[49m\u001b[43m \u001b[49m\u001b[43my\u001b[49m\u001b[43m)\u001b[49m\n\u001b[1;32m     35\u001b[0m     inversion(qc, x)\n",
      "Cell \u001b[0;32mIn[3], line 7\u001b[0m, in \u001b[0;36moracle\u001b[0;34m(qc, target, x, y)\u001b[0m\n\u001b[1;32m      6\u001b[0m \u001b[38;5;28;01mdef\u001b[39;00m \u001b[38;5;21moracle\u001b[39m(qc, target, x, y):\n\u001b[0;32m----> 7\u001b[0m     control_bits \u001b[38;5;241m=\u001b[39m [x[i] \u001b[38;5;28;01mfor\u001b[39;00m i \u001b[38;5;129;01min\u001b[39;00m \u001b[38;5;28mrange\u001b[39m(\u001b[43mx\u001b[49m\u001b[38;5;241;43m.\u001b[39;49m\u001b[43mnum_qubits\u001b[49m) \u001b[38;5;28;01mif\u001b[39;00m (target \u001b[38;5;241m&\u001b[39m (\u001b[38;5;241m1\u001b[39m \u001b[38;5;241m<<\u001b[39m i)) \u001b[38;5;241m==\u001b[39m \u001b[38;5;241m0\u001b[39m]\n\u001b[1;32m      8\u001b[0m     qc\u001b[38;5;241m.\u001b[39mccx(y[\u001b[38;5;241m0\u001b[39m], \u001b[38;5;241m*\u001b[39mcontrol_bits)\n\u001b[1;32m      9\u001b[0m     qc\u001b[38;5;241m.\u001b[39mbarrier()\n",
      "\u001b[0;31mAttributeError\u001b[0m: 'list' object has no attribute 'num_qubits'"
     ]
    }
   ],
   "source": [
    "from qiskit import QuantumCircuit\n",
    "from qiskit_aer import AerSimulator\n",
    "\n",
    "import math\n",
    "\n",
    "def oracle(qc, target, x, y):\n",
    "    control_bits = [x[i] for i in range(x.num_qubits) if (target & (1 << i)) == 0]\n",
    "    qc.ccx(y[0], *control_bits)\n",
    "    qc.barrier()\n",
    "\n",
    "def inverse_oracle(qc, target, x, y):\n",
    "    oracle(qc, target, x, y)\n",
    "\n",
    "def inversion(qc, x):\n",
    "    for i in range(x.num_qubits):\n",
    "        qc.h(x[i])\n",
    "        qc.x(x[i])\n",
    "    qc.h(x[0])\n",
    "    if x.num_qubits == 2:\n",
    "        qc.cx(x[0], x[1])\n",
    "    else:\n",
    "        control_bits = list(range(1, x.num_qubits))\n",
    "        qc.mcx(control_bits, x[0])\n",
    "    qc.h(x[0])\n",
    "    for i in range(x.num_qubits):\n",
    "        qc.x(x[i])\n",
    "        qc.h(x[i])\n",
    "    qc.barrier()\n",
    "\n",
    "def inverse_inversion(qc, x):\n",
    "    inversion(qc, x)\n",
    "\n",
    "def grover_iteration(qc, target, x, y):\n",
    "    oracle(qc, target, x, y)\n",
    "    inversion(qc, x)\n",
    "\n",
    "def inverse_grover_iteration(qc, target, x, y):\n",
    "    inversion(qc, x)\n",
    "    oracle(qc, target, x, y)\n",
    "\n",
    "# Define the number and width of the search space\n",
    "number = 5\n",
    "width = 4\n",
    "iterations = int(math.pi / 4 * math.sqrt(1 << width))\n",
    "\n",
    "# Create a quantum circuit\n",
    "qc = QuantumCircuit(width + 1, 1)\n",
    "\n",
    "# Apply Hadamard gates to all qubits in the input register\n",
    "qc.h(range(width))\n",
    "\n",
    "# Apply a Hadamard gate to the output qubit\n",
    "qc.h(width)\n",
    "\n",
    "# Apply Grover's iterations\n",
    "for i in range(iterations):\n",
    "    grover_iteration(qc, number, list(range(width)), [width])\n",
    "\n",
    "# Measure the input qubits\n",
    "qc.measure(range(width), 0)\n",
    "\n",
    "# Execute the circuit on the simulator\n",
    "simulator = AerSimulator.get_backend('qasm_simulator')\n",
    "result = execute(qc, simulator).result()\n",
    "\n",
    "# Get the counts of the results\n",
    "counts = result.get_counts(qc)\n",
    "print(\"Counts:\", counts)\n"
   ]
  }
 ],
 "metadata": {
  "kernelspec": {
   "display_name": ".venv",
   "language": "python",
   "name": "python3"
  },
  "language_info": {
   "codemirror_mode": {
    "name": "ipython",
    "version": 3
   },
   "file_extension": ".py",
   "mimetype": "text/x-python",
   "name": "python",
   "nbconvert_exporter": "python",
   "pygments_lexer": "ipython3",
   "version": "3.11.9"
  }
 },
 "nbformat": 4,
 "nbformat_minor": 2
}
