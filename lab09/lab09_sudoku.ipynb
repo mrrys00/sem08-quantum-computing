{
  "cells": [
    {
      "cell_type": "markdown",
      "metadata": {
        "id": "HovyRkFEaYt2"
      },
      "source": [
        "## Solving Sudoku using Grover's Algorithm <a id=\"sudoku\"></a>\n",
        "\n",
        "We will now solve a simple problem using Grover's algorithm, for which we do not necessarily know the solution beforehand. Our problem is a 2×2 binary sudoku, which in our case has two simple rules:\n",
        "\n",
        "- No column may contain the same value twice\n",
        "- No row may contain the same value twice\n",
        "\n",
        "If we assign each square in our sudoku to a variable like so:\n",
        "\n",
        "![2×2 binary sudoku, with each square allocated to a different variable](images/binary_sudoku.png)\n",
        "\n",
        "we want our circuit to output a solution to this sudoku.\n",
        "\n",
        "Note that, while this approach of using Grover's algorithm to solve this problem is not practical (you can probably find the solution in your head!), the purpose of this example is to demonstrate the conversion of classical [decision problems](https://en.wikipedia.org/wiki/Decision_problem) into oracles for Grover's algorithm.\n",
        "\n",
        "### 1. Turning the Problem into a Circuit\n",
        "\n",
        "We want to create an oracle that will help us solve this problem, and we will start by creating a circuit that identifies a correct solution. Similar to how we created a classical adder using quantum circuits in [_The Atoms of Computation_](/course/ch-states/the-atoms-of-computation), we simply need to create a _classical_ function on a quantum circuit that checks whether the state of our variable bits is a valid solution.\n",
        "\n",
        "Since we need to check down both columns and across both rows, there are 4 conditions we need to check:\n",
        "\n",
        "```\n",
        "v0 ≠ v1   # check along top row\n",
        "v2 ≠ v3   # check along bottom row\n",
        "v0 ≠ v2   # check down left column\n",
        "v1 ≠ v3   # check down right column\n",
        "```\n",
        "\n",
        "Remember we are comparing classical (computational basis) states. For convenience, we can compile this set of comparisons into a list of clauses:"
      ]
    },
    {
      "cell_type": "code",
      "execution_count": 1,
      "metadata": {
        "id": "WxERyptmaYt6",
        "tags": [
          "thebelab-init"
        ]
      },
      "outputs": [],
      "source": [
        "clause_list = [[0,1],\n",
        "               [0,2],\n",
        "               [1,3],\n",
        "               [2,3]]"
      ]
    },
    {
      "cell_type": "markdown",
      "metadata": {
        "id": "4me9WkDKaYt7"
      },
      "source": [
        "We will assign the value of each variable to a bit in our circuit. To check these clauses computationally, we will use the `XOR` gate (we came across this in the atoms of computation)."
      ]
    },
    {
      "cell_type": "code",
      "execution_count": 2,
      "metadata": {
        "id": "fnPmXIZyaYt8",
        "tags": [
          "thebelab-init"
        ]
      },
      "outputs": [],
      "source": [
        "def XOR(qc, a, b, output):\n",
        "    qc.cx(a, output)\n",
        "    qc.cx(b, output)"
      ]
    },
    {
      "cell_type": "markdown",
      "metadata": {
        "id": "UrBzmEjbaYt8"
      },
      "source": [
        "Convince yourself that the `output0` bit in the circuit below will only be flipped if `input0 ≠ input1`:"
      ]
    },
    {
      "cell_type": "code",
      "execution_count": 3,
      "metadata": {
        "colab": {
          "base_uri": "https://localhost:8080/",
          "height": 125
        },
        "id": "-O7cO0cBaYt8",
        "outputId": "3dea65a9-0d9d-47fa-bc04-0e7ed40a46be"
      },
      "outputs": [
        {
          "data": {
            "text/html": [
              "<pre style=\"word-wrap: normal;white-space: pre;background: #fff0;line-height: 1.1;font-family: &quot;Courier New&quot;,Courier,monospace\">                   \n",
              "input_0: ──■───────\n",
              "           │       \n",
              "input_1: ──┼────■──\n",
              "         ┌─┴─┐┌─┴─┐\n",
              " output: ┤ X ├┤ X ├\n",
              "         └───┘└───┘</pre>"
            ],
            "text/plain": [
              "                   \n",
              "input_0: ──■───────\n",
              "           │       \n",
              "input_1: ──┼────■──\n",
              "         ┌─┴─┐┌─┴─┐\n",
              " output: ┤ X ├┤ X ├\n",
              "         └───┘└───┘"
            ]
          },
          "execution_count": 3,
          "metadata": {},
          "output_type": "execute_result"
        }
      ],
      "source": [
        "from qiskit import QuantumRegister, AncillaRegister, QuantumCircuit, ClassicalRegister\n",
        "# We will use separate registers to name the bits\n",
        "in_qubits = QuantumRegister(2, name='input')\n",
        "out_qubit = QuantumRegister(1, name='output')\n",
        "qc = QuantumCircuit(in_qubits, out_qubit)\n",
        "XOR(qc, in_qubits[0], in_qubits[1], out_qubit)\n",
        "qc.draw()"
      ]
    },
    {
      "cell_type": "markdown",
      "metadata": {
        "id": "hwE3KKOoaYt9"
      },
      "source": [
        "This circuit checks whether `input0 == input1` and stores the output to `output0`. To check each clause, we repeat this circuit for each pairing in `clause_list` and store the output to a new bit:"
      ]
    },
    {
      "cell_type": "code",
      "execution_count": 4,
      "metadata": {
        "colab": {
          "base_uri": "https://localhost:8080/",
          "height": 279
        },
        "id": "gZhQuzZzaYt9",
        "outputId": "a6492f28-7697-48e8-a15f-349bf205c1bd"
      },
      "outputs": [
        {
          "data": {
            "text/html": [
              "<pre style=\"word-wrap: normal;white-space: pre;background: #fff0;line-height: 1.1;font-family: &quot;Courier New&quot;,Courier,monospace\">                                             \n",
              "v_0: ──■─────────■───────────────────────────\n",
              "       │         │                           \n",
              "v_1: ──┼────■────┼─────────■─────────────────\n",
              "       │    │    │         │                 \n",
              "v_2: ──┼────┼────┼────■────┼─────────■───────\n",
              "       │    │    │    │    │         │       \n",
              "v_3: ──┼────┼────┼────┼────┼────■────┼────■──\n",
              "     ┌─┴─┐┌─┴─┐  │    │    │    │    │    │  \n",
              "c_0: ┤ X ├┤ X ├──┼────┼────┼────┼────┼────┼──\n",
              "     └───┘└───┘┌─┴─┐┌─┴─┐  │    │    │    │  \n",
              "c_1: ──────────┤ X ├┤ X ├──┼────┼────┼────┼──\n",
              "               └───┘└───┘┌─┴─┐┌─┴─┐  │    │  \n",
              "c_2: ────────────────────┤ X ├┤ X ├──┼────┼──\n",
              "                         └───┘└───┘┌─┴─┐┌─┴─┐\n",
              "c_3: ──────────────────────────────┤ X ├┤ X ├\n",
              "                                   └───┘└───┘</pre>"
            ],
            "text/plain": [
              "                                             \n",
              "v_0: ──■─────────■───────────────────────────\n",
              "       │         │                           \n",
              "v_1: ──┼────■────┼─────────■─────────────────\n",
              "       │    │    │         │                 \n",
              "v_2: ──┼────┼────┼────■────┼─────────■───────\n",
              "       │    │    │    │    │         │       \n",
              "v_3: ──┼────┼────┼────┼────┼────■────┼────■──\n",
              "     ┌─┴─┐┌─┴─┐  │    │    │    │    │    │  \n",
              "c_0: ┤ X ├┤ X ├──┼────┼────┼────┼────┼────┼──\n",
              "     └───┘└───┘┌─┴─┐┌─┴─┐  │    │    │    │  \n",
              "c_1: ──────────┤ X ├┤ X ├──┼────┼────┼────┼──\n",
              "               └───┘└───┘┌─┴─┐┌─┴─┐  │    │  \n",
              "c_2: ────────────────────┤ X ├┤ X ├──┼────┼──\n",
              "                         └───┘└───┘┌─┴─┐┌─┴─┐\n",
              "c_3: ──────────────────────────────┤ X ├┤ X ├\n",
              "                                   └───┘└───┘"
            ]
          },
          "execution_count": 4,
          "metadata": {},
          "output_type": "execute_result"
        }
      ],
      "source": [
        "# Create separate registers to name bits\n",
        "var_qubits = QuantumRegister(4, name='v')  # variable bits\n",
        "clause_qubits = QuantumRegister(4, name='c')  # bits to store clause-checks\n",
        "\n",
        "# Create quantum circuit\n",
        "qc = QuantumCircuit(var_qubits, clause_qubits)\n",
        "\n",
        "# Use XOR gate to check each clause\n",
        "i = 0\n",
        "for clause in clause_list:\n",
        "    XOR(qc, clause[0], clause[1], clause_qubits[i])\n",
        "    i += 1\n",
        "\n",
        "qc.draw()"
      ]
    },
    {
      "cell_type": "markdown",
      "metadata": {
        "id": "Y2Y8ntcsaYt9"
      },
      "source": [
        "The final state of the bits `c0, c1, c2, c3` will only all be `1` in the case that the assignments of `v0, v1, v2, v3` are a solution to the sudoku. To complete our checking circuit, we want a single bit to be `1` if (and only if) all the clauses are satisfied, this way we can look at just one bit to see if our assignment is a solution. We can do this using a multi-controlled-Toffoli-gate:"
      ]
    },
    {
      "cell_type": "code",
      "execution_count": 5,
      "metadata": {
        "colab": {
          "base_uri": "https://localhost:8080/",
          "height": 309
        },
        "id": "NpekTQMCaYt9",
        "outputId": "f009890b-74f8-4f23-f338-4eb6b3e43193"
      },
      "outputs": [
        {
          "data": {
            "text/html": [
              "<pre style=\"word-wrap: normal;white-space: pre;background: #fff0;line-height: 1.1;font-family: &quot;Courier New&quot;,Courier,monospace\">                                                  \n",
              "v_0: ──■─────────■────────────────────────────────\n",
              "       │         │                                \n",
              "v_1: ──┼────■────┼─────────■──────────────────────\n",
              "       │    │    │         │                      \n",
              "v_2: ──┼────┼────┼────■────┼─────────■────────────\n",
              "       │    │    │    │    │         │            \n",
              "v_3: ──┼────┼────┼────┼────┼────■────┼────■───────\n",
              "     ┌─┴─┐┌─┴─┐  │    │    │    │    │    │       \n",
              "c_0: ┤ X ├┤ X ├──┼────┼────┼────┼────┼────┼────■──\n",
              "     └───┘└───┘┌─┴─┐┌─┴─┐  │    │    │    │    │  \n",
              "c_1: ──────────┤ X ├┤ X ├──┼────┼────┼────┼────■──\n",
              "               └───┘└───┘┌─┴─┐┌─┴─┐  │    │    │  \n",
              "c_2: ────────────────────┤ X ├┤ X ├──┼────┼────■──\n",
              "                         └───┘└───┘┌─┴─┐┌─┴─┐  │  \n",
              "c_3: ──────────────────────────────┤ X ├┤ X ├──■──\n",
              "                                   └───┘└───┘┌─┴─┐\n",
              "out: ────────────────────────────────────────┤ X ├\n",
              "                                             └───┘</pre>"
            ],
            "text/plain": [
              "                                                  \n",
              "v_0: ──■─────────■────────────────────────────────\n",
              "       │         │                                \n",
              "v_1: ──┼────■────┼─────────■──────────────────────\n",
              "       │    │    │         │                      \n",
              "v_2: ──┼────┼────┼────■────┼─────────■────────────\n",
              "       │    │    │    │    │         │            \n",
              "v_3: ──┼────┼────┼────┼────┼────■────┼────■───────\n",
              "     ┌─┴─┐┌─┴─┐  │    │    │    │    │    │       \n",
              "c_0: ┤ X ├┤ X ├──┼────┼────┼────┼────┼────┼────■──\n",
              "     └───┘└───┘┌─┴─┐┌─┴─┐  │    │    │    │    │  \n",
              "c_1: ──────────┤ X ├┤ X ├──┼────┼────┼────┼────■──\n",
              "               └───┘└───┘┌─┴─┐┌─┴─┐  │    │    │  \n",
              "c_2: ────────────────────┤ X ├┤ X ├──┼────┼────■──\n",
              "                         └───┘└───┘┌─┴─┐┌─┴─┐  │  \n",
              "c_3: ──────────────────────────────┤ X ├┤ X ├──■──\n",
              "                                   └───┘└───┘┌─┴─┐\n",
              "out: ────────────────────────────────────────┤ X ├\n",
              "                                             └───┘"
            ]
          },
          "execution_count": 5,
          "metadata": {},
          "output_type": "execute_result"
        }
      ],
      "source": [
        "from qiskit.circuit.library import C4XGate\n",
        "# Create separate registers to name bits\n",
        "var_qubits = QuantumRegister(4, name='v')\n",
        "clause_qubits = QuantumRegister(4, name='c')\n",
        "output_qubit = QuantumRegister(1, name='out')\n",
        "qc = QuantumCircuit(var_qubits, clause_qubits, output_qubit)\n",
        "\n",
        "# Compute clauses\n",
        "i = 0\n",
        "for clause in clause_list:\n",
        "    XOR(qc, clause[0], clause[1], clause_qubits[i])\n",
        "    i += 1\n",
        "\n",
        "# Flip 'output' bit if all clauses are satisfied\n",
        "qc.append(C4XGate(),[clause_qubits[0], clause_qubits[1], clause_qubits[2], clause_qubits[3], output_qubit[0]])\n",
        "\n",
        "qc.draw()"
      ]
    },
    {
      "cell_type": "markdown",
      "metadata": {
        "id": "3K-4DJNXaYt-"
      },
      "source": [
        "The circuit above takes as input an initial assignment of the bits `v0`, `v1`, `v2` and `v3`, and all other bits should be initialised to `0`. After running the circuit, the state of the `out0` bit tells us if this assignment is a solution or not; `out0 = 0` means the assignment _is not_ a solution, and `out0 = 1` means the assignment _is_ a solution.\n",
        "\n",
        "**Important:** Before you continue, it is important you fully understand this circuit and are convinced it works as stated in the paragraph above.\n",
        "\n",
        "### 2. Uncomputing, and Completing the Oracle\n",
        "\n",
        "We can now turn this checking circuit into a Grover oracle using [phase kickback](/course/ch-gates/phase-kickback). To recap, we have 3 registers:\n",
        "- One register which stores our sudoku variables (we'll say $x = v_3, v_2, v_1, v_0$)\n",
        "- One register that stores our clauses (this starts in the state $|0000\\rangle$ which we'll abbreviate to $|0\\rangle$)\n",
        "- And one qubit ($|\\text{out}_0\\rangle$) that we've been using to store the output of our checking circuit.\n",
        "\n",
        "To create an oracle, we need our circuit ($U_\\omega$) to perform the transformation:\n",
        "\n",
        "$$\n",
        "U_\\omega|x\\rangle|0\\rangle|\\text{out}_0\\rangle = |x\\rangle|0\\rangle|\\text{out}_0\\oplus f(x)\\rangle\n",
        "$$\n",
        "\n",
        "If we set the `out0` qubit to the superposition state $|{-}\\rangle$ we have:\n",
        "\n",
        "$$\n",
        "\\begin{aligned}\n",
        "U_\\omega|x\\rangle|0\\rangle|{-}\\rangle\n",
        "&= U_\\omega|x\\rangle|0\\rangle\\otimes\\tfrac{1}{\\sqrt{2}}(|0\\rangle - |1\\rangle)\\\\\n",
        "&= |x\\rangle|0\\rangle\\otimes\\tfrac{1}{\\sqrt{2}}(|0\\oplus f(x)\\rangle - |1\\oplus f(x)\\rangle)\n",
        "\\end{aligned}\n",
        "$$\n",
        "\n",
        "If $f(x) = 0$, then we have the state:\n",
        "\n",
        "$$\n",
        "\\begin{aligned}\n",
        "&= |x\\rangle|0\\rangle\\otimes \\tfrac{1}{\\sqrt{2}}(|0\\rangle - |1\\rangle)\\\\\n",
        "&= |x\\rangle|0\\rangle|-\\rangle\\\\\n",
        "\\end{aligned}\n",
        "$$\n",
        "\n",
        "\n",
        "(i.e. no change). But if $f(x) = 1$ (i.e. $x = \\omega$), we introduce a negative phase to the $|{-}\\rangle$ qubit:\n",
        "\n",
        "$$\n",
        "\\begin{aligned}\n",
        "&= \\phantom{-}|x\\rangle|0\\rangle\\otimes\\tfrac{1}{\\sqrt{2}}(|1\\rangle - |0\\rangle)\\\\\n",
        "&= \\phantom{-}|x\\rangle|0\\rangle\\otimes -\\tfrac{1}{\\sqrt{2}}(|0\\rangle - |1\\rangle)\\\\\n",
        "&= -|x\\rangle|0\\rangle|-\\rangle\\\\\n",
        "\\end{aligned}\n",
        "$$\n",
        "\n",
        "This is a functioning oracle that uses two auxiliary registers in the state $|0\\rangle|{-}\\rangle$:\n",
        "\n",
        "$$\n",
        "U_\\omega|x\\rangle|0\\rangle|{-}\\rangle = \\Bigg\\{\n",
        "\\begin{aligned}\n",
        "\\phantom{-}|x\\rangle|0\\rangle|-\\rangle \\quad \\text{for} \\; x \\neq \\omega \\\\\n",
        "-|x\\rangle|0\\rangle|-\\rangle \\quad \\text{for} \\; x = \\omega \\\\\n",
        "\\end{aligned}\n",
        "$$\n",
        "\n",
        "To adapt our checking circuit into a Grover oracle, we need to guarantee the bits in the second register (`c`) are always returned to the state $|0000\\rangle$ after the computation. To do this, we simply repeat the part of the circuit that computes the clauses which guarantees `c0 = c1 = c2 = c3 = 0` after our circuit has run. We call this step _'uncomputation'_."
      ]
    },
    {
      "cell_type": "code",
      "execution_count": 6,
      "metadata": {
        "colab": {
          "base_uri": "https://localhost:8080/",
          "height": 663
        },
        "id": "oMiGmBshaYt-",
        "outputId": "02283c55-e9e0-4ca7-e024-72c37122f84e"
      },
      "outputs": [
        {
          "data": {
            "text/html": [
              "<pre style=\"word-wrap: normal;white-space: pre;background: #fff0;line-height: 1.1;font-family: &quot;Courier New&quot;,Courier,monospace\">                                                                               »\n",
              "    v_0: ──■─────────■──────────────────────────────────■─────────■────────────»\n",
              "           │         │                                  │         │            »\n",
              "    v_1: ──┼────■────┼─────────■────────────────────────┼────■────┼─────────■──»\n",
              "           │    │    │         │                        │    │    │         │  »\n",
              "    v_2: ──┼────┼────┼────■────┼─────────■──────────────┼────┼────┼────■────┼──»\n",
              "           │    │    │    │    │         │              │    │    │    │    │  »\n",
              "    v_3: ──┼────┼────┼────┼────┼────■────┼────■─────────┼────┼────┼────┼────┼──»\n",
              "         ┌─┴─┐┌─┴─┐  │    │    │    │    │    │       ┌─┴─┐┌─┴─┐  │    │    │  »\n",
              "    c_0: ┤ X ├┤ X ├──┼────┼────┼────┼────┼────┼────■──┤ X ├┤ X ├──┼────┼────┼──»\n",
              "         └───┘└───┘┌─┴─┐┌─┴─┐  │    │    │    │    │  └───┘└───┘┌─┴─┐┌─┴─┐  │  »\n",
              "    c_1: ──────────┤ X ├┤ X ├──┼────┼────┼────┼────■────────────┤ X ├┤ X ├──┼──»\n",
              "                   └───┘└───┘┌─┴─┐┌─┴─┐  │    │    │            └───┘└───┘┌─┴─┐»\n",
              "    c_2: ────────────────────┤ X ├┤ X ├──┼────┼────■──────────────────────┤ X ├»\n",
              "                             └───┘└───┘┌─┴─┐┌─┴─┐  │                      └───┘»\n",
              "    c_3: ──────────────────────────────┤ X ├┤ X ├──■───────────────────────────»\n",
              "                                       └───┘└───┘┌─┴─┐                         »\n",
              "    out: ────────────────────────────────────────┤ X ├─────────────────────────»\n",
              "                                                 └───┘                         »\n",
              "cbits: 4/══════════════════════════════════════════════════════════════════════»\n",
              "                                                                               »\n",
              "«                        \n",
              "«    v_0: ───────────────\n",
              "«                        \n",
              "«    v_1: ───────────────\n",
              "«                        \n",
              "«    v_2: ───────■───────\n",
              "«                │       \n",
              "«    v_3: ──■────┼────■──\n",
              "«           │    │    │  \n",
              "«    c_0: ──┼────┼────┼──\n",
              "«           │    │    │  \n",
              "«    c_1: ──┼────┼────┼──\n",
              "«         ┌─┴─┐  │    │  \n",
              "«    c_2: ┤ X ├──┼────┼──\n",
              "«         └───┘┌─┴─┐┌─┴─┐\n",
              "«    c_3: ─────┤ X ├┤ X ├\n",
              "«              └───┘└───┘\n",
              "«    out: ───────────────\n",
              "«                        \n",
              "«cbits: 4/═══════════════\n",
              "«                        </pre>"
            ],
            "text/plain": [
              "                                                                               »\n",
              "    v_0: ──■─────────■──────────────────────────────────■─────────■────────────»\n",
              "           │         │                                  │         │            »\n",
              "    v_1: ──┼────■────┼─────────■────────────────────────┼────■────┼─────────■──»\n",
              "           │    │    │         │                        │    │    │         │  »\n",
              "    v_2: ──┼────┼────┼────■────┼─────────■──────────────┼────┼────┼────■────┼──»\n",
              "           │    │    │    │    │         │              │    │    │    │    │  »\n",
              "    v_3: ──┼────┼────┼────┼────┼────■────┼────■─────────┼────┼────┼────┼────┼──»\n",
              "         ┌─┴─┐┌─┴─┐  │    │    │    │    │    │       ┌─┴─┐┌─┴─┐  │    │    │  »\n",
              "    c_0: ┤ X ├┤ X ├──┼────┼────┼────┼────┼────┼────■──┤ X ├┤ X ├──┼────┼────┼──»\n",
              "         └───┘└───┘┌─┴─┐┌─┴─┐  │    │    │    │    │  └───┘└───┘┌─┴─┐┌─┴─┐  │  »\n",
              "    c_1: ──────────┤ X ├┤ X ├──┼────┼────┼────┼────■────────────┤ X ├┤ X ├──┼──»\n",
              "                   └───┘└───┘┌─┴─┐┌─┴─┐  │    │    │            └───┘└───┘┌─┴─┐»\n",
              "    c_2: ────────────────────┤ X ├┤ X ├──┼────┼────■──────────────────────┤ X ├»\n",
              "                             └───┘└───┘┌─┴─┐┌─┴─┐  │                      └───┘»\n",
              "    c_3: ──────────────────────────────┤ X ├┤ X ├──■───────────────────────────»\n",
              "                                       └───┘└───┘┌─┴─┐                         »\n",
              "    out: ────────────────────────────────────────┤ X ├─────────────────────────»\n",
              "                                                 └───┘                         »\n",
              "cbits: 4/══════════════════════════════════════════════════════════════════════»\n",
              "                                                                               »\n",
              "«                        \n",
              "«    v_0: ───────────────\n",
              "«                        \n",
              "«    v_1: ───────────────\n",
              "«                        \n",
              "«    v_2: ───────■───────\n",
              "«                │       \n",
              "«    v_3: ──■────┼────■──\n",
              "«           │    │    │  \n",
              "«    c_0: ──┼────┼────┼──\n",
              "«           │    │    │  \n",
              "«    c_1: ──┼────┼────┼──\n",
              "«         ┌─┴─┐  │    │  \n",
              "«    c_2: ┤ X ├──┼────┼──\n",
              "«         └───┘┌─┴─┐┌─┴─┐\n",
              "«    c_3: ─────┤ X ├┤ X ├\n",
              "«              └───┘└───┘\n",
              "«    out: ───────────────\n",
              "«                        \n",
              "«cbits: 4/═══════════════\n",
              "«                        "
            ]
          },
          "execution_count": 6,
          "metadata": {},
          "output_type": "execute_result"
        }
      ],
      "source": [
        "from qiskit.circuit.library import C4XGate\n",
        "var_qubits = QuantumRegister(4, name='v')\n",
        "clause_qubits = QuantumRegister(4, name='c')\n",
        "output_qubit = QuantumRegister(1, name='out')\n",
        "cbits = ClassicalRegister(4, name='cbits')\n",
        "qc = QuantumCircuit(var_qubits, clause_qubits, output_qubit, cbits)\n",
        "\n",
        "def sudoku_oracle(qc, clause_list, clause_qubits):\n",
        "    # Compute clauses\n",
        "    i = 0\n",
        "    for clause in clause_list:\n",
        "        XOR(qc, clause[0], clause[1], clause_qubits[i])\n",
        "        i += 1\n",
        "\n",
        "    # Flip 'output' bit if all clauses are satisfied\n",
        "    qc.append(C4XGate(),[clause_qubits[0], clause_qubits[1], clause_qubits[2], clause_qubits[3], output_qubit[0]])\n",
        "    # Uncompute clauses to reset clause-checking bits to 0\n",
        "    i = 0\n",
        "    for clause in clause_list:\n",
        "        XOR(qc, clause[0], clause[1], clause_qubits[i])\n",
        "        i += 1\n",
        "\n",
        "sudoku_oracle(qc, clause_list, clause_qubits)\n",
        "qc.draw()"
      ]
    },
    {
      "cell_type": "markdown",
      "metadata": {
        "id": "cqaK0ZNWaYt-"
      },
      "source": [
        "In summary, the circuit above performs:\n",
        "\n",
        "$$\n",
        "U_\\omega|x\\rangle|0\\rangle|\\text{out}_0\\rangle = \\Bigg\\{\n",
        "\\begin{aligned}\n",
        "|x\\rangle|0\\rangle|\\text{out}_0\\rangle \\quad \\text{for} \\; x \\neq \\omega \\\\\n",
        "|x\\rangle|0\\rangle\\otimes X|\\text{out}_0\\rangle \\quad \\text{for} \\; x = \\omega \\\\\n",
        "\\end{aligned}\n",
        "$$\n",
        "\n",
        "and if the initial state of $|\\text{out}_0\\rangle = |{-}\\rangle$,:\n",
        "\n",
        "$$\n",
        "U_\\omega|x\\rangle|0\\rangle|{-}\\rangle = \\Bigg\\{\n",
        "\\begin{aligned}\n",
        "\\phantom{-}|x\\rangle|0\\rangle|-\\rangle \\quad \\text{for} \\; x \\neq \\omega \\\\\n",
        "-|x\\rangle|0\\rangle|-\\rangle \\quad \\text{for} \\; x = \\omega \\\\\n",
        "\\end{aligned}\n",
        "$$"
      ]
    },
    {
      "cell_type": "code",
      "execution_count": 7,
      "metadata": {
        "colab": {
          "base_uri": "https://localhost:8080/",
          "height": 35
        },
        "id": "fkDt42S7aYt_",
        "outputId": "f2036777-f5f3-4a78-f8de-0a32aeb4a00a"
      },
      "outputs": [
        {
          "data": {
            "text/plain": [
              "'0.22.0'"
            ]
          },
          "execution_count": 7,
          "metadata": {},
          "output_type": "execute_result"
        }
      ],
      "source": [
        "import qiskit_ibm_runtime\n",
        "\n",
        "qiskit_ibm_runtime.version.get_version_info()"
      ]
    },
    {
      "cell_type": "code",
      "execution_count": 8,
      "metadata": {
        "colab": {
          "base_uri": "https://localhost:8080/",
          "height": 35
        },
        "id": "NZ2Mz77OaYt_",
        "outputId": "8e52b6c2-dcba-4d93-9b9b-d0eeccad84fb"
      },
      "outputs": [
        {
          "data": {
            "text/plain": [
              "'1.0.2'"
            ]
          },
          "execution_count": 8,
          "metadata": {},
          "output_type": "execute_result"
        }
      ],
      "source": [
        "import qiskit\n",
        "\n",
        "qiskit.version.get_version_info()"
      ]
    },
    {
      "cell_type": "markdown",
      "metadata": {
        "id": "k7X0rYYEaYt_"
      },
      "source": [
        "## Zadanie\n",
        "\n",
        "Zasymuluj algorytm Grovera dla wyroczni rozwiązującej Sudoku. Wskazówki:\n",
        "\n",
        "* Przedstawiony problem Sudoku ma dwa poprawne rozwiązania. Liczba iteracji to podłoga wyrażenia $$\\frac{\\pi}{4}\\cdot \\sqrt{\\frac{N}{m}}$$ N - liczba wszystkich możliwości, m -liczba możliwości na tak\n",
        "* rejesterem wejściowym jest <i>var_qubits</i> - przed uruchomomieniem  pierwszej iteracji Grovera należy ustawić go w stan superpozycji za pomocą bramek H (podobnie jak w zadaniu domowym).  \n",
        "* Tylko na rejestrze wejściowym należy dokonać  inwersji (w odpowiednich miejscach w obwodzie)\n",
        "* rejesterem wyjściowym jest  <i> output_qubit </i> przed uruchomieniem pierwszej iteracji Grovera należy ustawić go w stan  $H|1>$, (tak samo jak w zadaniu domowym)\n",
        "* pozostałe rejestry są pomocnicze (ang auxilary qbits) - nie należy ich specjalnie ustawiać (na początku są standardowo ustawiane na $|0>$), ani mierzyć."
      ]
    },
    {
      "cell_type": "code",
      "execution_count": 9,
      "metadata": {
        "id": "nT4wh5fWaYt_"
      },
      "outputs": [],
      "source": [
        "import numpy as np\n",
        "#initialization\n",
        "import matplotlib.pyplot as plt\n",
        "import numpy as np\n",
        "\n",
        "from qiskit.circuit.library import C4XGate\n",
        "from qiskit_aer import AerSimulator\n",
        "from qiskit import transpile\n",
        "from qiskit.primitives import Sampler as PSampler\n",
        "import numpy as np\n",
        "import pylatexenc\n",
        "from qiskit.circuit.library import C3XGate\n",
        "from qiskit.visualization import plot_histogram\n",
        "\n",
        "n = 4\n",
        "\n",
        "var_qubits = QuantumRegister(n, name='v')\n",
        "clause_qubits = QuantumRegister(n, name='c')\n",
        "output_qubit = QuantumRegister(1, name='out')\n",
        "cbits = ClassicalRegister(n, name='cbits')\n",
        "qc = QuantumCircuit(var_qubits, clause_qubits, output_qubit, cbits)\n",
        "iterations = np.floor(np.pi/4 * np.sqrt((2**n)/2)).astype(int)"
      ]
    },
    {
      "cell_type": "code",
      "execution_count": 10,
      "metadata": {
        "colab": {
          "base_uri": "https://localhost:8080/",
          "height": 360
        },
        "id": "bfqt0DeAcP71",
        "outputId": "1c426a28-9f1a-4de6-a859-7857d77fc683"
      },
      "outputs": [
        {
          "data": {
            "text/html": [
              "<pre style=\"word-wrap: normal;white-space: pre;background: #fff0;line-height: 1.1;font-family: &quot;Courier New&quot;,Courier,monospace\">               ┌───┐            ░                                                                                       ░ ┌───┐┌───┐          ┌───┐┌───┐                                                                                           ░ ┌───┐┌───┐          ┌───┐┌───┐     ┌─┐         \n",
              "    v_0: ──────┤ H ├────────────░───■─────────■──────────────────────────────────■─────────■────────────────────────────░─┤ H ├┤ X ├───────■──┤ X ├┤ H ├───────■─────────■──────────────────────────────────■─────────■────────────────────────────░─┤ H ├┤ X ├───────■──┤ X ├┤ H ├─────┤M├─────────\n",
              "               ├───┤            ░   │         │                                  │         │                            ░ ├───┤├───┤       │  ├───┤├───┤       │         │                                  │         │                            ░ ├───┤├───┤       │  ├───┤├───┤     └╥┘┌─┐      \n",
              "    v_1: ──────┤ H ├────────────░───┼────■────┼─────────■────────────────────────┼────■────┼─────────■──────────────────░─┤ H ├┤ X ├───────■──┤ X ├┤ H ├───────┼────■────┼─────────■────────────────────────┼────■────┼─────────■──────────────────░─┤ H ├┤ X ├───────■──┤ X ├┤ H ├──────╫─┤M├──────\n",
              "               ├───┤            ░   │    │    │         │                        │    │    │         │                  ░ ├───┤├───┤       │  ├───┤├───┤       │    │    │         │                        │    │    │         │                  ░ ├───┤├───┤       │  ├───┤├───┤      ║ └╥┘┌─┐   \n",
              "    v_2: ──────┤ H ├────────────░───┼────┼────┼────■────┼─────────■──────────────┼────┼────┼────■────┼─────────■────────░─┤ H ├┤ X ├───────■──┤ X ├┤ H ├───────┼────┼────┼────■────┼─────────■──────────────┼────┼────┼────■────┼─────────■────────░─┤ H ├┤ X ├───────■──┤ X ├┤ H ├──────╫──╫─┤M├───\n",
              "               ├───┤            ░   │    │    │    │    │         │              │    │    │    │    │         │        ░ ├───┤├───┤┌───┐┌─┴─┐├───┤├───┤┌───┐  │    │    │    │    │         │              │    │    │    │    │         │        ░ ├───┤├───┤┌───┐┌─┴─┐├───┤├───┤┌───┐ ║  ║ └╥┘┌─┐\n",
              "    v_3: ──────┤ H ├────────────░───┼────┼────┼────┼────┼────■────┼────■─────────┼────┼────┼────┼────┼────■────┼────■───░─┤ H ├┤ X ├┤ H ├┤ X ├┤ H ├┤ X ├┤ H ├──┼────┼────┼────┼────┼────■────┼────■─────────┼────┼────┼────┼────┼────■────┼────■───░─┤ H ├┤ X ├┤ H ├┤ X ├┤ H ├┤ X ├┤ H ├─╫──╫──╫─┤M├\n",
              "               └───┘            ░ ┌─┴─┐┌─┴─┐  │    │    │    │    │    │       ┌─┴─┐┌─┴─┐  │    │    │    │    │    │   ░ └───┘└───┘└───┘└───┘└───┘└───┘└───┘┌─┴─┐┌─┴─┐  │    │    │    │    │    │       ┌─┴─┐┌─┴─┐  │    │    │    │    │    │   ░ └───┘└───┘└───┘└───┘└───┘└───┘└───┘ ║  ║  ║ └╥┘\n",
              "    c_0: ───────────────────────░─┤ X ├┤ X ├──┼────┼────┼────┼────┼────┼────■──┤ X ├┤ X ├──┼────┼────┼────┼────┼────┼───░────────────────────────────────────┤ X ├┤ X ├──┼────┼────┼────┼────┼────┼────■──┤ X ├┤ X ├──┼────┼────┼────┼────┼────┼───░─────────────────────────────────────╫──╫──╫──╫─\n",
              "                                ░ └───┘└───┘┌─┴─┐┌─┴─┐  │    │    │    │    │  └───┘└───┘┌─┴─┐┌─┴─┐  │    │    │    │   ░                                    └───┘└───┘┌─┴─┐┌─┴─┐  │    │    │    │    │  └───┘└───┘┌─┴─┐┌─┴─┐  │    │    │    │   ░                                     ║  ║  ║  ║ \n",
              "    c_1: ───────────────────────░───────────┤ X ├┤ X ├──┼────┼────┼────┼────■────────────┤ X ├┤ X ├──┼────┼────┼────┼───░──────────────────────────────────────────────┤ X ├┤ X ├──┼────┼────┼────┼────■────────────┤ X ├┤ X ├──┼────┼────┼────┼───░─────────────────────────────────────╫──╫──╫──╫─\n",
              "                                ░           └───┘└───┘┌─┴─┐┌─┴─┐  │    │    │            └───┘└───┘┌─┴─┐┌─┴─┐  │    │   ░                                              └───┘└───┘┌─┴─┐┌─┴─┐  │    │    │            └───┘└───┘┌─┴─┐┌─┴─┐  │    │   ░                                     ║  ║  ║  ║ \n",
              "    c_2: ───────────────────────░─────────────────────┤ X ├┤ X ├──┼────┼────■──────────────────────┤ X ├┤ X ├──┼────┼───░────────────────────────────────────────────────────────┤ X ├┤ X ├──┼────┼────■──────────────────────┤ X ├┤ X ├──┼────┼───░─────────────────────────────────────╫──╫──╫──╫─\n",
              "                                ░                     └───┘└───┘┌─┴─┐┌─┴─┐  │                      └───┘└───┘┌─┴─┐┌─┴─┐ ░                                                        └───┘└───┘┌─┴─┐┌─┴─┐  │                      └───┘└───┘┌─┴─┐┌─┴─┐ ░                                     ║  ║  ║  ║ \n",
              "    c_3: ───────────────────────░───────────────────────────────┤ X ├┤ X ├──■────────────────────────────────┤ X ├┤ X ├─░──────────────────────────────────────────────────────────────────┤ X ├┤ X ├──■────────────────────────────────┤ X ├┤ X ├─░─────────────────────────────────────╫──╫──╫──╫─\n",
              "         ┌───────────────┐┌───┐ ░                               └───┘└───┘┌─┴─┐                              └───┘└───┘ ░                                                                  └───┘└───┘┌─┴─┐                              └───┘└───┘ ░                                     ║  ║  ║  ║ \n",
              "    out: ┤ Initialize(1) ├┤ H ├─░─────────────────────────────────────────┤ X ├─────────────────────────────────────────░────────────────────────────────────────────────────────────────────────────┤ X ├─────────────────────────────────────────░─────────────────────────────────────╫──╫──╫──╫─\n",
              "         └───────────────┘└───┘ ░                                         └───┘                                         ░                                                                            └───┘                                         ░                                     ║  ║  ║  ║ \n",
              "cbits: 4/════════════════════════════════════════════════════════════════════════════════════════════════════════════════════════════════════════════════════════════════════════════════════════════════════════════════════════════════════════════════════════════════════════════════╩══╩══╩══╩═\n",
              "                                                                                                                                                                                                                                                                                         0  1  2  3 </pre>"
            ],
            "text/plain": [
              "               ┌───┐            ░                                                                                       ░ ┌───┐┌───┐          ┌───┐┌───┐                                                                                           ░ ┌───┐┌───┐          ┌───┐┌───┐     ┌─┐         \n",
              "    v_0: ──────┤ H ├────────────░───■─────────■──────────────────────────────────■─────────■────────────────────────────░─┤ H ├┤ X ├───────■──┤ X ├┤ H ├───────■─────────■──────────────────────────────────■─────────■────────────────────────────░─┤ H ├┤ X ├───────■──┤ X ├┤ H ├─────┤M├─────────\n",
              "               ├───┤            ░   │         │                                  │         │                            ░ ├───┤├───┤       │  ├───┤├───┤       │         │                                  │         │                            ░ ├───┤├───┤       │  ├───┤├───┤     └╥┘┌─┐      \n",
              "    v_1: ──────┤ H ├────────────░───┼────■────┼─────────■────────────────────────┼────■────┼─────────■──────────────────░─┤ H ├┤ X ├───────■──┤ X ├┤ H ├───────┼────■────┼─────────■────────────────────────┼────■────┼─────────■──────────────────░─┤ H ├┤ X ├───────■──┤ X ├┤ H ├──────╫─┤M├──────\n",
              "               ├───┤            ░   │    │    │         │                        │    │    │         │                  ░ ├───┤├───┤       │  ├───┤├───┤       │    │    │         │                        │    │    │         │                  ░ ├───┤├───┤       │  ├───┤├───┤      ║ └╥┘┌─┐   \n",
              "    v_2: ──────┤ H ├────────────░───┼────┼────┼────■────┼─────────■──────────────┼────┼────┼────■────┼─────────■────────░─┤ H ├┤ X ├───────■──┤ X ├┤ H ├───────┼────┼────┼────■────┼─────────■──────────────┼────┼────┼────■────┼─────────■────────░─┤ H ├┤ X ├───────■──┤ X ├┤ H ├──────╫──╫─┤M├───\n",
              "               ├───┤            ░   │    │    │    │    │         │              │    │    │    │    │         │        ░ ├───┤├───┤┌───┐┌─┴─┐├───┤├───┤┌───┐  │    │    │    │    │         │              │    │    │    │    │         │        ░ ├───┤├───┤┌───┐┌─┴─┐├───┤├───┤┌───┐ ║  ║ └╥┘┌─┐\n",
              "    v_3: ──────┤ H ├────────────░───┼────┼────┼────┼────┼────■────┼────■─────────┼────┼────┼────┼────┼────■────┼────■───░─┤ H ├┤ X ├┤ H ├┤ X ├┤ H ├┤ X ├┤ H ├──┼────┼────┼────┼────┼────■────┼────■─────────┼────┼────┼────┼────┼────■────┼────■───░─┤ H ├┤ X ├┤ H ├┤ X ├┤ H ├┤ X ├┤ H ├─╫──╫──╫─┤M├\n",
              "               └───┘            ░ ┌─┴─┐┌─┴─┐  │    │    │    │    │    │       ┌─┴─┐┌─┴─┐  │    │    │    │    │    │   ░ └───┘└───┘└───┘└───┘└───┘└───┘└───┘┌─┴─┐┌─┴─┐  │    │    │    │    │    │       ┌─┴─┐┌─┴─┐  │    │    │    │    │    │   ░ └───┘└───┘└───┘└───┘└───┘└───┘└───┘ ║  ║  ║ └╥┘\n",
              "    c_0: ───────────────────────░─┤ X ├┤ X ├──┼────┼────┼────┼────┼────┼────■──┤ X ├┤ X ├──┼────┼────┼────┼────┼────┼───░────────────────────────────────────┤ X ├┤ X ├──┼────┼────┼────┼────┼────┼────■──┤ X ├┤ X ├──┼────┼────┼────┼────┼────┼───░─────────────────────────────────────╫──╫──╫──╫─\n",
              "                                ░ └───┘└───┘┌─┴─┐┌─┴─┐  │    │    │    │    │  └───┘└───┘┌─┴─┐┌─┴─┐  │    │    │    │   ░                                    └───┘└───┘┌─┴─┐┌─┴─┐  │    │    │    │    │  └───┘└───┘┌─┴─┐┌─┴─┐  │    │    │    │   ░                                     ║  ║  ║  ║ \n",
              "    c_1: ───────────────────────░───────────┤ X ├┤ X ├──┼────┼────┼────┼────■────────────┤ X ├┤ X ├──┼────┼────┼────┼───░──────────────────────────────────────────────┤ X ├┤ X ├──┼────┼────┼────┼────■────────────┤ X ├┤ X ├──┼────┼────┼────┼───░─────────────────────────────────────╫──╫──╫──╫─\n",
              "                                ░           └───┘└───┘┌─┴─┐┌─┴─┐  │    │    │            └───┘└───┘┌─┴─┐┌─┴─┐  │    │   ░                                              └───┘└───┘┌─┴─┐┌─┴─┐  │    │    │            └───┘└───┘┌─┴─┐┌─┴─┐  │    │   ░                                     ║  ║  ║  ║ \n",
              "    c_2: ───────────────────────░─────────────────────┤ X ├┤ X ├──┼────┼────■──────────────────────┤ X ├┤ X ├──┼────┼───░────────────────────────────────────────────────────────┤ X ├┤ X ├──┼────┼────■──────────────────────┤ X ├┤ X ├──┼────┼───░─────────────────────────────────────╫──╫──╫──╫─\n",
              "                                ░                     └───┘└───┘┌─┴─┐┌─┴─┐  │                      └───┘└───┘┌─┴─┐┌─┴─┐ ░                                                        └───┘└───┘┌─┴─┐┌─┴─┐  │                      └───┘└───┘┌─┴─┐┌─┴─┐ ░                                     ║  ║  ║  ║ \n",
              "    c_3: ───────────────────────░───────────────────────────────┤ X ├┤ X ├──■────────────────────────────────┤ X ├┤ X ├─░──────────────────────────────────────────────────────────────────┤ X ├┤ X ├──■────────────────────────────────┤ X ├┤ X ├─░─────────────────────────────────────╫──╫──╫──╫─\n",
              "         ┌───────────────┐┌───┐ ░                               └───┘└───┘┌─┴─┐                              └───┘└───┘ ░                                                                  └───┘└───┘┌─┴─┐                              └───┘└───┘ ░                                     ║  ║  ║  ║ \n",
              "    out: ┤ Initialize(1) ├┤ H ├─░─────────────────────────────────────────┤ X ├─────────────────────────────────────────░────────────────────────────────────────────────────────────────────────────┤ X ├─────────────────────────────────────────░─────────────────────────────────────╫──╫──╫──╫─\n",
              "         └───────────────┘└───┘ ░                                         └───┘                                         ░                                                                            └───┘                                         ░                                     ║  ║  ║  ║ \n",
              "cbits: 4/════════════════════════════════════════════════════════════════════════════════════════════════════════════════════════════════════════════════════════════════════════════════════════════════════════════════════════════════════════════════════════════════════════════════╩══╩══╩══╩═\n",
              "                                                                                                                                                                                                                                                                                         0  1  2  3 "
            ]
          },
          "execution_count": 10,
          "metadata": {},
          "output_type": "execute_result"
        }
      ],
      "source": [
        "qc.initialize(1, output_qubit)\n",
        "\n",
        "qc.h(var_qubits)\n",
        "qc.h(output_qubit)\n",
        "qc.barrier() # for visual separation\n",
        "\n",
        "for i in range(iterations):\n",
        "  # Apply oracle\n",
        "  sudoku_oracle(qc, clause_list, clause_qubits)\n",
        "  qc.barrier()  # for visual separation\n",
        "  # Apply diffuser\n",
        "  qc.h(var_qubits)\n",
        "  qc.x(var_qubits)\n",
        "  qc.h(var_qubits[3])\n",
        "  qc.append(C3XGate(),[var_qubits[0], var_qubits[1], var_qubits[2], var_qubits[3]])\n",
        "  qc.h(var_qubits[3])\n",
        "  qc.x(var_qubits)\n",
        "  qc.h(var_qubits)\n",
        "\n",
        "# Measure the variable qubits\n",
        "qc.measure(var_qubits, cbits)\n",
        "\n",
        "qc.draw(fold=-1)"
      ]
    },
    {
      "cell_type": "code",
      "execution_count": 11,
      "metadata": {
        "colab": {
          "base_uri": "https://localhost:8080/",
          "height": 484
        },
        "id": "5dlXEi-OdXUu",
        "outputId": "2ba2145a-c1e3-43f5-fcdc-0aaa015942fe"
      },
      "outputs": [
        {
          "data": {
            "image/png": "[encoded data removed]",
            "text/plain": [
              "<Figure size 700x500 with 1 Axes>"
            ]
          },
          "execution_count": 11,
          "metadata": {},
          "output_type": "execute_result"
        }
      ],
      "source": [
        "# Simulate and plot results\n",
        "simulator = AerSimulator()\n",
        "transpiled_qc = transpile(qc, simulator)\n",
        "result = simulator.run(transpiled_qc).result()\n",
        "plot_histogram(result.get_counts(transpiled_qc))"
      ]
    },
    {
      "cell_type": "code",
      "execution_count": null,
      "metadata": {
        "id": "0aRSD6whcRX2"
      },
      "outputs": [],
      "source": []
    }
  ],
  "metadata": {
    "colab": {
      "provenance": []
    },
    "kernelspec": {
      "display_name": "Python 3 (ipykernel)",
      "language": "python",
      "name": "python3"
    },
    "language_info": {
      "codemirror_mode": {
        "name": "ipython",
        "version": 3
      },
      "file_extension": ".py",
      "mimetype": "text/x-python",
      "name": "python",
      "nbconvert_exporter": "python",
      "pygments_lexer": "ipython3",
      "version": "3.11.9"
    }
  },
  "nbformat": 4,
  "nbformat_minor": 0
}
